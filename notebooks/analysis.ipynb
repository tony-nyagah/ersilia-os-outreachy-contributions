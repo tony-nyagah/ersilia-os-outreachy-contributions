{
 "cells": [
  {
   "cell_type": "markdown",
   "metadata": {},
   "source": [
    "## Data Acquisition\n",
    "\n",
    "Here we download the data from `tdcommons.ai` that we're going to use. I have decided to go with the `AMES Mutagenicity` dataset.\n",
    "\n",
    "**Data description**: Mutagenicity means the ability of a drug to induce genetic alterations. Drugs that can cause damage to the DNA can result in cell death or other severe adverse effects. Nowadays, the most widely used assay for testing the mutagenicity of compounds is the Ames experiment which was invented by a professor named Ames. The Ames test is a short-term bacterial reverse mutation assay detecting a large number of compounds which can induce genetic damage and frameshift mutations. The dataset is aggregated from four papers.\n"
   ]
  },
  {
   "cell_type": "markdown",
   "metadata": {},
   "source": [
    "The Ames test is a widely used method to determine whether a chemical can cause mutations in DNA. This is crucial in drug development since compounds that damage DNA can lead to cancer or other severe health issues."
   ]
  },
  {
   "cell_type": "code",
   "execution_count": 2,
   "metadata": {},
   "outputs": [],
   "source": [
    "import os\n",
    "import sys\n",
    "\n",
    "# Add the project root to the Python path\n",
    "project_root = os.path.abspath(os.path.join(os.getcwd(), \"..\"))\n",
    "if project_root not in sys.path:\n",
    "    sys.path.append(project_root)"
   ]
  },
  {
   "cell_type": "markdown",
   "metadata": {},
   "source": [
    "### Dataset Details:\n",
    "- **Task Type**: Binary classification (Mutagenic[1] or Non-mutagenic[0])\n",
    "- **Prediction**: Whether a compound can cause genetic mutations\n",
    "- **Size**: Typically contains around 7200 compounds\n",
    "- **Features**: Molecular structures represented as SMILES strings\n",
    "- **Target**: Binary classification (1 for Mutagenic, 0 for Non-mutagenic)"
   ]
  },
  {
   "cell_type": "markdown",
   "metadata": {},
   "source": [
    "### Loading the dataset"
   ]
  },
  {
   "cell_type": "markdown",
   "metadata": {},
   "source": [
    "We can check which datasets are available in TDC by running the following code:"
   ]
  },
  {
   "cell_type": "code",
   "execution_count": 4,
   "metadata": {},
   "outputs": [
    {
     "name": "stdout",
     "output_type": "stream",
     "text": [
      "Available ADME datasets:\n",
      "- lipophilicity_astrazeneca\n",
      "- solubility_aqsoldb\n",
      "- hydrationfreeenergy_freesolv\n",
      "- caco2_wang\n",
      "- hia_hou\n",
      "- pgp_broccatelli\n",
      "- bioavailability_ma\n",
      "- vdss_lombardo\n",
      "- cyp2c19_veith\n",
      "- cyp2d6_veith\n",
      "- cyp3a4_veith\n",
      "- cyp1a2_veith\n",
      "- cyp2c9_veith\n",
      "- cyp2c9_substrate_carbonmangels\n",
      "- cyp2d6_substrate_carbonmangels\n",
      "- cyp3a4_substrate_carbonmangels\n",
      "- bbb_martins\n",
      "- ppbr_az\n",
      "- half_life_obach\n",
      "- clearance_hepatocyte_az\n",
      "- clearance_microsome_az\n",
      "\n",
      "Available Toxicity datasets:\n",
      "- tox21\n",
      "- toxcast\n",
      "- clintox\n",
      "- herg\n",
      "- herg_central\n",
      "- dili\n",
      "- skin_reaction\n",
      "- ames\n",
      "- carcinogens_lagunin\n",
      "- ld50_zhu\n"
     ]
    }
   ],
   "source": [
    "from scripts.fetch_dataset import list_available_datasets\n",
    "\n",
    "list_available_datasets()"
   ]
  },
  {
   "cell_type": "markdown",
   "metadata": {},
   "source": [
    "### Download the dataset\n",
    "\n",
    "Now we download the `AMES` dataset from the Tox group.\n",
    "\n",
    "The script `download_dataset.py` will download the dataset and save it to the `data` folder with the following files:\n",
    "\n",
    "- `AMES_train.csv`\n",
    "- `AMES_valid.csv`\n",
    "- `AMES_test.csv`\n",
    "- `AMES_full.csv`\n"
   ]
  },
  {
   "cell_type": "code",
   "execution_count": 5,
   "metadata": {},
   "outputs": [
    {
     "name": "stderr",
     "output_type": "stream",
     "text": [
      "Found local copy...\n",
      "Loading...\n",
      "Done!\n"
     ]
    },
    {
     "name": "stdout",
     "output_type": "stream",
     "text": [
      "Downloading AMES dataset from Tox group...\n",
      "Dataset saved to /home/nyagah/Code/personal/ersilia-os-outreachy-contributions/data\n",
      "Files created:\n",
      "- /home/nyagah/Code/personal/ersilia-os-outreachy-contributions/data/AMES_train.csv\n",
      "- /home/nyagah/Code/personal/ersilia-os-outreachy-contributions/data/AMES_valid.csv\n",
      "- /home/nyagah/Code/personal/ersilia-os-outreachy-contributions/data/AMES_test.csv\n",
      "- /home/nyagah/Code/personal/ersilia-os-outreachy-contributions/data/AMES_full.csv\n"
     ]
    },
    {
     "data": {
      "text/plain": [
       "('/home/nyagah/Code/personal/ersilia-os-outreachy-contributions/data/AMES_train.csv',\n",
       " '/home/nyagah/Code/personal/ersilia-os-outreachy-contributions/data/AMES_valid.csv',\n",
       " '/home/nyagah/Code/personal/ersilia-os-outreachy-contributions/data/AMES_test.csv',\n",
       " '/home/nyagah/Code/personal/ersilia-os-outreachy-contributions/data/AMES_full.csv')"
      ]
     },
     "execution_count": 5,
     "metadata": {},
     "output_type": "execute_result"
    }
   ],
   "source": [
    "from scripts.fetch_dataset import download_dataset\n",
    "\n",
    "download_dataset(dataset_name=\"AMES\", dataset_group=\"Tox\")"
   ]
  },
  {
   "cell_type": "markdown",
   "metadata": {},
   "source": [
    "Let's visualize the full Ames dataset to see the class distribution."
   ]
  },
  {
   "cell_type": "code",
   "execution_count": 6,
   "metadata": {},
   "outputs": [
    {
     "data": {
      "image/png": "[encoded data removed]",
      "text/plain": [
       "<Figure size 1000x600 with 1 Axes>"
      ]
     },
     "metadata": {},
     "output_type": "display_data"
    },
    {
     "data": {
      "text/plain": [
       "<Figure size 640x480 with 0 Axes>"
      ]
     },
     "metadata": {},
     "output_type": "display_data"
    }
   ],
   "source": [
    "import matplotlib.pyplot as plt\n",
    "import seaborn as sns\n",
    "import pandas as pd\n",
    "\n",
    "ames_full_df = pd.read_csv(\"../data/AMES_full.csv\")\n",
    "\n",
    "plt.figure(figsize=(10, 6))\n",
    "sns.countplot(x=\"Y\", data=ames_full_df)\n",
    "plt.title(\"Class Distribution in AMES Dataset\")\n",
    "plt.xlabel(\"Mutagenic (1) vs Non-mutagenic (0)\")\n",
    "plt.ylabel(\"Count\")\n",
    "plt.show()\n",
    "plt.savefig(\"../figures/ames_class_distribution.png\")"
   ]
  },
  {
   "cell_type": "markdown",
   "metadata": {},
   "source": [
    "## Featurization\n",
    "\n",
    "Since there are no unique values to distinguish between mutagenic and non-mutagenic compounds, we will use Ersilia models to featurize the compounds. We can start with using `eos3b5e` to get the molecular weight of each compounds.\n",
    "\n",
    "### 1. Molecular weight"
   ]
  },
  {
   "cell_type": "code",
   "execution_count": null,
   "metadata": {},
   "outputs": [],
   "source": [
    "from rdkit import Chem\n",
    "from rdkit.Chem import Descriptors\n",
    "\n",
    "def calculate_mol_weight(df: pd.DataFrame) -> pd.DataFrame:\n",
    "    mol_weights = []\n",
    "    for smiles in df[\"Drug\"]:\n",
    "        mol = Chem.MolFromSmiles(smiles)\n",
    "        mol_weight = Descriptors.MolWt(mol)\n",
    "        mol_weights.append(mol_weight)\n",
    "\n",
    "    df[\"MolWeight\"] = mol_weights\n",
    "    return df"
   ]
  },
  {
   "cell_type": "code",
   "execution_count": null,
   "metadata": {},
   "outputs": [],
   "source": [
    "ames_full_df = calculate_mol_weight(ames_full_df)\n",
    "ames_test_df = calculate_mol_weight(ames_test_df)\n",
    "ames_train_df = calculate_mol_weight(ames_train_df)\n",
    "ames_valid_df = calculate_mol_weight(ames_valid_df)"
   ]
  },
  {
   "cell_type": "code",
   "execution_count": null,
   "metadata": {},
   "outputs": [],
   "source": [
    "ames_full_df.head()"
   ]
  },
  {
   "cell_type": "markdown",
   "metadata": {},
   "source": [
    "## Create our model"
   ]
  },
  {
   "cell_type": "code",
   "execution_count": null,
   "metadata": {},
   "outputs": [],
   "source": []
  }
 ],
 "metadata": {
  "kernelspec": {
   "display_name": "ersilia",
   "language": "python",
   "name": "python3"
  },
  "language_info": {
   "codemirror_mode": {
    "name": "ipython",
    "version": 3
   },
   "file_extension": ".py",
   "mimetype": "text/x-python",
   "name": "python",
   "nbconvert_exporter": "python",
   "pygments_lexer": "ipython3",
   "version": "3.12.9"
  }
 },
 "nbformat": 4,
 "nbformat_minor": 2
}
