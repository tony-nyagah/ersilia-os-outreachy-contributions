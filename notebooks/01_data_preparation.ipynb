{
 "cells": [
  {
   "cell_type": "markdown",
   "metadata": {},
   "source": [
    "## Data Acquisition"
   ]
  },
  {
   "cell_type": "markdown",
   "metadata": {},
   "source": [
    "Here we get the data from `tdcommons.ai` that we're going to use. I have decided to go with the `BBB_Martins` dataset."
   ]
  },
  {
   "cell_type": "markdown",
   "metadata": {},
   "source": [
    "The `BBB_Martins` dataset is focused on blood-brain barrier (BBB) penetration, which is a critical property in drug discovery. The blood-brain barrier is a highly selective membrane that separates the circulating blood from the brain extracellular fluid, and predicting whether a compound can cross this barrier is important for developing drugs targeting central nervous system disorders."
   ]
  },
  {
   "cell_type": "code",
   "execution_count": 12,
   "metadata": {},
   "outputs": [],
   "source": [
    "from scripts.download_dataset import list_available_datasets, download_dataset"
   ]
  },
  {
   "cell_type": "code",
   "execution_count": 14,
   "metadata": {},
   "outputs": [
    {
     "name": "stdout",
     "output_type": "stream",
     "text": [
      "Available ADME datasets:\n",
      "- lipophilicity_astrazeneca\n",
      "- solubility_aqsoldb\n",
      "- hydrationfreeenergy_freesolv\n",
      "- caco2_wang\n",
      "- hia_hou\n",
      "- pgp_broccatelli\n",
      "- bioavailability_ma\n",
      "- vdss_lombardo\n",
      "- cyp2c19_veith\n",
      "- cyp2d6_veith\n",
      "- cyp3a4_veith\n",
      "- cyp1a2_veith\n",
      "- cyp2c9_veith\n",
      "- cyp2c9_substrate_carbonmangels\n",
      "- cyp2d6_substrate_carbonmangels\n",
      "- cyp3a4_substrate_carbonmangels\n",
      "- bbb_martins\n",
      "- ppbr_az\n",
      "- half_life_obach\n",
      "- clearance_hepatocyte_az\n",
      "- clearance_microsome_az\n",
      "\n",
      "Available Toxicity datasets:\n",
      "- tox21\n",
      "- toxcast\n",
      "- clintox\n",
      "- herg\n",
      "- herg_central\n",
      "- dili\n",
      "- skin_reaction\n",
      "- ames\n",
      "- carcinogens_lagunin\n",
      "- ld50_zhu\n"
     ]
    }
   ],
   "source": [
    "# What datasets are available for use?\n",
    "list_available_datasets()"
   ]
  },
  {
   "cell_type": "code",
   "execution_count": 15,
   "metadata": {},
   "outputs": [
    {
     "name": "stderr",
     "output_type": "stream",
     "text": [
      "Downloading...\n"
     ]
    },
    {
     "name": "stdout",
     "output_type": "stream",
     "text": [
      "Downloading bbb_martins dataset from ADME group...\n"
     ]
    },
    {
     "name": "stderr",
     "output_type": "stream",
     "text": [
      "100%|██████████| 138k/138k [00:00<00:00, 227kiB/s]  \n",
      "Loading...\n",
      "Done!\n"
     ]
    },
    {
     "name": "stdout",
     "output_type": "stream",
     "text": [
      "Dataset saved to /home/nyagah/Code/personal/ersilia-os-outreachy-contributions/data\n",
      "Train set: 1421 samples\n",
      "Validation set: 203 samples\n",
      "Test set: 406 samples\n",
      "Full dataset: 2030 samples\n",
      "\n",
      "Dataset Information:\n",
      "Number of features: 2\n",
      "Task type: Classification (found 2 unique classes)\n",
      "This is a binary classification dataset ✓\n",
      "\n",
      "Class distribution:\n",
      "Train set: {1: 1096, 0: 325}\n",
      "Valid set: {1: 152, 0: 51}\n",
      "Test set: {1: 303, 0: 103}\n"
     ]
    },
    {
     "data": {
      "text/html": [
       "<div>\n",
       "<style scoped>\n",
       "    .dataframe tbody tr th:only-of-type {\n",
       "        vertical-align: middle;\n",
       "    }\n",
       "\n",
       "    .dataframe tbody tr th {\n",
       "        vertical-align: top;\n",
       "    }\n",
       "\n",
       "    .dataframe thead th {\n",
       "        text-align: right;\n",
       "    }\n",
       "</style>\n",
       "<table border=\"1\" class=\"dataframe\">\n",
       "  <thead>\n",
       "    <tr style=\"text-align: right;\">\n",
       "      <th></th>\n",
       "      <th>Drug_ID</th>\n",
       "      <th>Drug</th>\n",
       "      <th>Y</th>\n",
       "    </tr>\n",
       "  </thead>\n",
       "  <tbody>\n",
       "    <tr>\n",
       "      <th>0</th>\n",
       "      <td>Terbutylchlorambucil</td>\n",
       "      <td>CC(C)(C)OC(=O)CCCc1ccc(N(CCCl)CCCl)cc1</td>\n",
       "      <td>1</td>\n",
       "    </tr>\n",
       "    <tr>\n",
       "      <th>1</th>\n",
       "      <td>40730</td>\n",
       "      <td>CC1COc2c(N3CCN(C)CC3)c(F)cc3c(=O)c(C(=O)O)cn1c23</td>\n",
       "      <td>1</td>\n",
       "    </tr>\n",
       "    <tr>\n",
       "      <th>2</th>\n",
       "      <td>cloxacillin</td>\n",
       "      <td>Cc1onc(-c2ccccc2Cl)c1C(=O)N[C@@H]1C(=O)N2[C@@H...</td>\n",
       "      <td>1</td>\n",
       "    </tr>\n",
       "    <tr>\n",
       "      <th>3</th>\n",
       "      <td>cefoperazone</td>\n",
       "      <td>CCN1CCN(C(=O)N[C@@H](C(=O)N[C@@H]2C(=O)N3C(C(=...</td>\n",
       "      <td>1</td>\n",
       "    </tr>\n",
       "    <tr>\n",
       "      <th>4</th>\n",
       "      <td>rolitetracycline</td>\n",
       "      <td>CN(C)[C@@H]1C(=O)/C(=C(/O)NCN2CCCC2)C(=O)[C@@]...</td>\n",
       "      <td>1</td>\n",
       "    </tr>\n",
       "    <tr>\n",
       "      <th>...</th>\n",
       "      <td>...</td>\n",
       "      <td>...</td>\n",
       "      <td>...</td>\n",
       "    </tr>\n",
       "    <tr>\n",
       "      <th>401</th>\n",
       "      <td>rifamide</td>\n",
       "      <td>CCN(CC)C(=O)COc1cc2c(O)c3c(O)c(C)c4c(c13)C(=O)...</td>\n",
       "      <td>0</td>\n",
       "    </tr>\n",
       "    <tr>\n",
       "      <th>402</th>\n",
       "      <td>BRL52871</td>\n",
       "      <td>O=C(Cc1ccc(Cl)c(Cl)c1)N1CCc2sccc2[C@H]1CN1CCCC1</td>\n",
       "      <td>1</td>\n",
       "    </tr>\n",
       "    <tr>\n",
       "      <th>403</th>\n",
       "      <td>hydromorphone</td>\n",
       "      <td>CN1CC[C@]23c4c5ccc(O)c4O[C@H]2C(=O)CC[C@H]3[C@...</td>\n",
       "      <td>1</td>\n",
       "    </tr>\n",
       "    <tr>\n",
       "      <th>404</th>\n",
       "      <td>suritozole</td>\n",
       "      <td>Cn1nc(-c2cccc(F)c2)n(C)c1=S</td>\n",
       "      <td>1</td>\n",
       "    </tr>\n",
       "    <tr>\n",
       "      <th>405</th>\n",
       "      <td>tofisopam</td>\n",
       "      <td>CCC1C(C)=NN=C(c2ccc(OC)c(OC)c2)c2cc(OC)c(OC)cc21</td>\n",
       "      <td>1</td>\n",
       "    </tr>\n",
       "  </tbody>\n",
       "</table>\n",
       "<p>2030 rows × 3 columns</p>\n",
       "</div>"
      ],
      "text/plain": [
       "                  Drug_ID                                               Drug  Y\n",
       "0    Terbutylchlorambucil             CC(C)(C)OC(=O)CCCc1ccc(N(CCCl)CCCl)cc1  1\n",
       "1                   40730   CC1COc2c(N3CCN(C)CC3)c(F)cc3c(=O)c(C(=O)O)cn1c23  1\n",
       "2             cloxacillin  Cc1onc(-c2ccccc2Cl)c1C(=O)N[C@@H]1C(=O)N2[C@@H...  1\n",
       "3            cefoperazone  CCN1CCN(C(=O)N[C@@H](C(=O)N[C@@H]2C(=O)N3C(C(=...  1\n",
       "4        rolitetracycline  CN(C)[C@@H]1C(=O)/C(=C(/O)NCN2CCCC2)C(=O)[C@@]...  1\n",
       "..                    ...                                                ... ..\n",
       "401              rifamide  CCN(CC)C(=O)COc1cc2c(O)c3c(O)c(C)c4c(c13)C(=O)...  0\n",
       "402              BRL52871    O=C(Cc1ccc(Cl)c(Cl)c1)N1CCc2sccc2[C@H]1CN1CCCC1  1\n",
       "403         hydromorphone  CN1CC[C@]23c4c5ccc(O)c4O[C@H]2C(=O)CC[C@H]3[C@...  1\n",
       "404            suritozole                        Cn1nc(-c2cccc(F)c2)n(C)c1=S  1\n",
       "405             tofisopam   CCC1C(C)=NN=C(c2ccc(OC)c(OC)c2)c2cc(OC)c(OC)cc21  1\n",
       "\n",
       "[2030 rows x 3 columns]"
      ]
     },
     "execution_count": 15,
     "metadata": {},
     "output_type": "execute_result"
    }
   ],
   "source": [
    "# Download the dataset we want to use\n",
    "download_dataset(\"bbb_martins\", \"ADME\")"
   ]
  }
 ],
 "metadata": {
  "kernelspec": {
   "display_name": "ersilia",
   "language": "python",
   "name": "python3"
  },
  "language_info": {
   "codemirror_mode": {
    "name": "ipython",
    "version": 3
   },
   "file_extension": ".py",
   "mimetype": "text/x-python",
   "name": "python",
   "nbconvert_exporter": "python",
   "pygments_lexer": "ipython3",
   "version": "3.12.9"
  }
 },
 "nbformat": 4,
 "nbformat_minor": 2
}
